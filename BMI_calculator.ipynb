{
 "cells": [
  {
   "cell_type": "code",
   "execution_count": null,
   "id": "135db008",
   "metadata": {},
   "outputs": [],
   "source": [
    "def BMI_calculator():\n",
    "    ''' This function calculates the Body Mass Index in kilograms and centimeters'''\n",
    "    name = input('Enter your name: ')\n",
    "    weight= int(input(\"Enter yout weight in kg: \"))\n",
    "    height= int(input(\"Enter yout height in cm: \"))\n",
    "    BMI = ((weight / height) / height) * 10000\n",
    "    if BMI >0:\n",
    "        if (BMI< 18.5):\n",
    "            print(name+', you are Underweight.')\n",
    "        elif (BMI> 24.9):\n",
    "            print(name+', you are Normal Weight.')\n",
    "        elif (BMI> 29.9):\n",
    "            print(name+', you are Overweight.')\n",
    "        elif (BMI> 34.9):\n",
    "            print(name+', you are Obese.')\n",
    "        elif (BMI> 39.9):\n",
    "            print(name+', you are Severely Obese.')\n",
    "        else:\n",
    "            print(name+', you are Mordibly Obese.')\n",
    "            \n",
    "BMI_calculator()\n",
    "    "
   ]
  }
 ],
 "metadata": {
  "kernelspec": {
   "display_name": "Python 3 (ipykernel)",
   "language": "python",
   "name": "python3"
  },
  "language_info": {
   "codemirror_mode": {
    "name": "ipython",
    "version": 3
   },
   "file_extension": ".py",
   "mimetype": "text/x-python",
   "name": "python",
   "nbconvert_exporter": "python",
   "pygments_lexer": "ipython3",
   "version": "3.9.12"
  }
 },
 "nbformat": 4,
 "nbformat_minor": 5
}
